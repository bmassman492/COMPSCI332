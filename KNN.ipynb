{
 "cells": [
  {
   "cell_type": "code",
   "execution_count": 1,
   "id": "8cc6d900-91a8-47de-b3d6-b9813f16f91c",
   "metadata": {},
   "outputs": [
    {
     "ename": "ImportError",
     "evalue": "DLL load failed while importing _C: The specified module could not be found.",
     "output_type": "error",
     "traceback": [
      "\u001b[31m---------------------------------------------------------------------------\u001b[39m",
      "\u001b[31mImportError\u001b[39m                               Traceback (most recent call last)",
      "\u001b[36mCell\u001b[39m\u001b[36m \u001b[39m\u001b[32mIn[1]\u001b[39m\u001b[32m, line 2\u001b[39m\n\u001b[32m      1\u001b[39m \u001b[38;5;66;03m# Need a dataset, any torch dataset is fine\u001b[39;00m\n\u001b[32m----> \u001b[39m\u001b[32m2\u001b[39m \u001b[38;5;28;01mimport\u001b[39;00m\u001b[38;5;250m \u001b[39m\u001b[34;01mtorch\u001b[39;00m\n\u001b[32m      4\u001b[39m \u001b[38;5;28;01mfrom\u001b[39;00m\u001b[38;5;250m \u001b[39m\u001b[34;01mtorchvision\u001b[39;00m\u001b[38;5;250m \u001b[39m\u001b[38;5;28;01mimport\u001b[39;00m datasets, transforms\n\u001b[32m      5\u001b[39m transform = transforms.Compose([transforms.ToTensor(), transforms.Normalize((\u001b[32m0.5\u001b[39m,),(\u001b[32m0.5\u001b[39m,))])\n",
      "\u001b[36mFile \u001b[39m\u001b[32m~\\AppData\\Local\\Packages\\PythonSoftwareFoundation.Python.3.11_qbz5n2kfra8p0\\LocalCache\\local-packages\\Python311\\site-packages\\torch\\__init__.py:416\u001b[39m\n\u001b[32m    414\u001b[39m     \u001b[38;5;28;01mif\u001b[39;00m USE_GLOBAL_DEPS:\n\u001b[32m    415\u001b[39m         _load_global_deps()\n\u001b[32m--> \u001b[39m\u001b[32m416\u001b[39m     \u001b[38;5;28;01mfrom\u001b[39;00m\u001b[38;5;250m \u001b[39m\u001b[34;01mtorch\u001b[39;00m\u001b[34;01m.\u001b[39;00m\u001b[34;01m_C\u001b[39;00m\u001b[38;5;250m \u001b[39m\u001b[38;5;28;01mimport\u001b[39;00m *  \u001b[38;5;66;03m# noqa: F403\u001b[39;00m\n\u001b[32m    419\u001b[39m \u001b[38;5;28;01mclass\u001b[39;00m\u001b[38;5;250m \u001b[39m\u001b[34;01mSymInt\u001b[39;00m:\n\u001b[32m    420\u001b[39m \u001b[38;5;250m    \u001b[39m\u001b[33;03m\"\"\"\u001b[39;00m\n\u001b[32m    421\u001b[39m \u001b[33;03m    Like an int (including magic methods), but redirects all operations on the\u001b[39;00m\n\u001b[32m    422\u001b[39m \u001b[33;03m    wrapped node. This is used in particular to symbolically record operations\u001b[39;00m\n\u001b[32m    423\u001b[39m \u001b[33;03m    in the symbolic shape workflow.\u001b[39;00m\n\u001b[32m    424\u001b[39m \u001b[33;03m    \"\"\"\u001b[39;00m\n",
      "\u001b[31mImportError\u001b[39m: DLL load failed while importing _C: The specified module could not be found."
     ]
    }
   ],
   "source": [
    "# Need a dataset, any torch dataset is fine\n",
    "import torch\n",
    "\n",
    "from torchvision import datasets, transforms\n",
    "transform = transforms.Compose([transforms.ToTensor(), transforms.Normalize((0.5,),(0.5,))])\n",
    "\n",
    "train_dataset = datasets.MNIST(root = './data',download = True, transform = transform)\n",
    "test_dataset = datasets.MNIST(root = './data', download = True, train = False, transform = transform)\n",
    "\n",
    "train_loader = torch.utils.data.DataLoader(train_dataset, batch_size = 4, shuffle = True)\n",
    "test_loader = torch.utils.data.DataLoader(test_dataset, batch_size = 4, shuffle = False)"
   ]
  },
  {
   "cell_type": "code",
   "execution_count": null,
   "id": "bad34807-52a8-4982-8d9c-846d81a33d66",
   "metadata": {},
   "outputs": [
    {
     "name": "stdout",
     "output_type": "stream",
     "text": [
      "60000 10000\n",
      "<class 'torchvision.datasets.mnist.MNIST'>\n"
     ]
    }
   ],
   "source": [
    "print(len(train_dataset),len(test_dataset))\n",
    "print(type(test_dataset))"
   ]
  },
  {
   "cell_type": "code",
   "execution_count": null,
   "id": "ebe3d647-871c-46a4-8d55-1eeeb46424d4",
   "metadata": {},
   "outputs": [
    {
     "data": {
      "image/png": "[encoded data removed]",
      "text/plain": [
       "<Figure size 640x480 with 1 Axes>"
      ]
     },
     "metadata": {},
     "output_type": "display_data"
    },
    {
     "name": "stdout",
     "output_type": "stream",
     "text": [
      "1\n"
     ]
    }
   ],
   "source": [
    "# for inference phase\n",
    "# a new data point comes\n",
    "\n",
    "from random import randint\n",
    "from matplotlib import pyplot as plt\n",
    "idx = randint(0,len(test_dataset)-1)\n",
    "image, label = test_dataset[idx]\n",
    "plt.imshow(image.squeeze(), cmap='gray')\t# squeeze() makes a tensor to a matrix\n",
    "plt.show()\n",
    "\n",
    "# define a data structure (length k) that contains sorted tuple (distance,label), sorted by distance\n",
    "# once finished traversing the entire dataset\n",
    "min_distance = 1e5\n",
    "min_index = len(train_dataset) + 1\n",
    "for i in range(len(train_dataset)):\n",
    "    dist = torch.norm(image-train_dataset[i][0])\n",
    "    if min_distance > dist:\n",
    "        min_index = i\n",
    "        min_distance = dist\n",
    "\n",
    "predicted_label = train_dataset[min_index][1]\n",
    "print(predicted_label)\n",
    "\n",
    "# perform a majority voting"
   ]
  },
  {
   "cell_type": "code",
   "execution_count": null,
   "id": "6db52cab-f4f8-4532-8b0a-e0a6c724cf31",
   "metadata": {},
   "outputs": [
    {
     "name": "stdout",
     "output_type": "stream",
     "text": [
      "{1: 10}\n",
      "The time took is  3.41 second(s).\n",
      "1\n"
     ]
    }
   ],
   "source": [
    "# k-nn with k > 1 with sorted list\n",
    "# define a data structure (length k) that contains sorted tuple (distance,label), sorted by distance\n",
    "# once finished traversing the entire dataset\n",
    "import time\n",
    "\n",
    "time_start = time.perf_counter()\n",
    "k = 100\n",
    "sort_needed = False\n",
    "top_k = []\n",
    "min_distance = 1e5\n",
    "min_index = len(train_dataset) + 1\n",
    "for i in range(len(train_dataset)):\n",
    "    dist = torch.norm(image-train_dataset[i][0])\n",
    "    if i < k:\n",
    "        top_k.append((dist,train_dataset[i][1]))\n",
    "    if i == k-1 or sort_needed == True:\n",
    "        top_k.sort()\n",
    "    if i >= k and top_k[k-1][0] > dist:\n",
    "        top_k[k-1] = (dist,train_dataset[i][1])\n",
    "        sort_needed = True\n",
    "\n",
    "label_count = {}# (label, count)\n",
    "for i in range(k):\n",
    "    if top_k[i][1] in label_count:\n",
    "        label_count[top_k[i][1]] += 1\n",
    "    else:\n",
    "        label_count[top_k[i][1]] = 1\n",
    "\n",
    "print(label_count)\n",
    "max_count = 0\n",
    "max_label = 10\n",
    "for label in label_count:\n",
    "    if label_count[label]>max_count:\n",
    "        max_label = label\n",
    "        max_count = label_count[label]\n",
    "\n",
    "time_end = time.perf_counter()\n",
    "print(f\"The time took is {time_end-time_start: .2f} second(s).\")\n",
    "predicted_label = max_label\n",
    "print(predicted_label)\n",
    "\n",
    "# perform a majority voting"
   ]
  },
  {
   "cell_type": "code",
   "execution_count": null,
   "id": "837ee610-b50a-437a-84fa-db0023608f89",
   "metadata": {},
   "outputs": [
    {
     "name": "stdout",
     "output_type": "stream",
     "text": [
      "{1: 10}\n",
      "The time took is  2.42 second(s).\n",
      "1\n"
     ]
    }
   ],
   "source": [
    "# k-nn with binary heap \n",
    "import heapq\n",
    "\n",
    "time_start = time.perf_counter()\n",
    "top_k = []\n",
    "\n",
    "for i in range(len(train_dataset)):\n",
    "    dist = torch.norm(image-train_dataset[i][0])\n",
    "    if i < k:\n",
    "        heapq.heappush(top_k,(-dist,train_dataset[i][1]))\n",
    "    if i >= k and abs(top_k[0][0]) > dist:\n",
    "        heapq.heappop(top_k)\n",
    "        heapq.heappush(top_k,(-dist, train_dataset[i][1]))\n",
    "        \n",
    "label_count = {}# (label, count)\n",
    "for i in range(k):\n",
    "    if top_k[i][1] in label_count:\n",
    "        label_count[top_k[i][1]] += 1\n",
    "    else:\n",
    "        label_count[top_k[i][1]] = 1\n",
    "\n",
    "print(label_count)\n",
    "max_count = 0\n",
    "max_label = 10\n",
    "for label in label_count:\n",
    "    if label_count[label]>max_count:\n",
    "        max_label = label\n",
    "        max_count = label_count[label]\n",
    "\n",
    "time_end = time.perf_counter()\n",
    "print(f\"The time took is {time_end-time_start: .2f} second(s).\")\n",
    "\n",
    "predicted_label = max_label\n",
    "print(predicted_label)\n"
   ]
  }
 ],
 "metadata": {
  "kernelspec": {
   "display_name": "Python 3",
   "language": "python",
   "name": "python3"
  },
  "language_info": {
   "codemirror_mode": {
    "name": "ipython",
    "version": 3
   },
   "file_extension": ".py",
   "mimetype": "text/x-python",
   "name": "python",
   "nbconvert_exporter": "python",
   "pygments_lexer": "ipython3",
   "version": "3.11.9"
  }
 },
 "nbformat": 4,
 "nbformat_minor": 5
}
